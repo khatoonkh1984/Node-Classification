{
 "cells": [
  {
   "cell_type": "markdown",
   "id": "4e797018",
   "metadata": {
    "id": "4e797018"
   },
   "source": [
    "## Libraries"
   ]
  },
  {
   "cell_type": "code",
   "execution_count": null,
   "id": "GbFIgkmfIWXJ",
   "metadata": {
    "colab": {
     "base_uri": "https://localhost:8080/"
    },
    "id": "GbFIgkmfIWXJ",
    "outputId": "393aa7c7-0e93-445a-bcbc-37ae4b283198"
   },
   "outputs": [],
   "source": [
    "!pip install torch_geometric\n",
    "!pip install torch-spline-conv\n"
   ]
  },
  {
   "cell_type": "code",
   "execution_count": 2,
   "id": "64218e0a",
   "metadata": {
    "id": "64218e0a"
   },
   "outputs": [],
   "source": [
    "import warnings\n",
    "warnings.filterwarnings('ignore')\n",
    "\n",
    "import os.path as osp\n",
    "import torch\n",
    "import torch.nn.functional as F\n",
    "\n",
    "import torch_geometric.transforms as T\n",
    "from torch_geometric.datasets import Planetoid\n",
    "from torch_geometric.nn import SplineConv\n",
    "from torch_geometric.typing import WITH_TORCH_SPLINE_CONV"
   ]
  },
  {
   "cell_type": "markdown",
   "id": "c1a5848f",
   "metadata": {
    "id": "c1a5848f"
   },
   "source": [
    "## Loading Dataset"
   ]
  },
  {
   "cell_type": "code",
   "execution_count": 3,
   "id": "ba7bf6cc",
   "metadata": {
    "colab": {
     "base_uri": "https://localhost:8080/"
    },
    "id": "ba7bf6cc",
    "outputId": "6985d7df-9e41-434c-dc56-e6f1cd1a75ed"
   },
   "outputs": [
    {
     "name": "stderr",
     "output_type": "stream",
     "text": [
      "Downloading https://github.com/kimiyoung/planetoid/raw/master/data/ind.cora.x\n",
      "Downloading https://github.com/kimiyoung/planetoid/raw/master/data/ind.cora.tx\n",
      "Downloading https://github.com/kimiyoung/planetoid/raw/master/data/ind.cora.allx\n",
      "Downloading https://github.com/kimiyoung/planetoid/raw/master/data/ind.cora.y\n",
      "Downloading https://github.com/kimiyoung/planetoid/raw/master/data/ind.cora.ty\n",
      "Downloading https://github.com/kimiyoung/planetoid/raw/master/data/ind.cora.ally\n",
      "Downloading https://github.com/kimiyoung/planetoid/raw/master/data/ind.cora.graph\n",
      "Downloading https://github.com/kimiyoung/planetoid/raw/master/data/ind.cora.test.index\n",
      "Processing...\n",
      "Done!\n"
     ]
    }
   ],
   "source": [
    "\n",
    "if not WITH_TORCH_SPLINE_CONV:\n",
    "    quit(\"This example requires 'torch-spline-conv'\")\n",
    "\n",
    "dataset = 'Cora'\n",
    "transform = T.Compose([\n",
    "    T.RandomNodeSplit(num_val=500, num_test=500),\n",
    "    T.TargetIndegree(),\n",
    "])\n",
    "path =  'data'\n",
    "dataset = Planetoid(path, dataset, transform=transform)\n",
    "data = dataset[0]"
   ]
  },
  {
   "cell_type": "markdown",
   "id": "d2ffac67",
   "metadata": {
    "id": "d2ffac67"
   },
   "source": [
    "## Model"
   ]
  },
  {
   "cell_type": "code",
   "execution_count": 4,
   "id": "6c102c1a",
   "metadata": {
    "id": "6c102c1a"
   },
   "outputs": [],
   "source": [
    "\n",
    "\n",
    "class Net(torch.nn.Module):\n",
    "    def __init__(self):\n",
    "        super().__init__()\n",
    "        self.conv1 = SplineConv(dataset.num_features, 16, dim=1, kernel_size=2)\n",
    "        self.conv2 = SplineConv(16, dataset.num_classes, dim=1, kernel_size=2)\n",
    "\n",
    "    def forward(self):\n",
    "        x, edge_index, edge_attr = data.x, data.edge_index, data.edge_attr\n",
    "        x = F.dropout(x, training=self.training)\n",
    "        x = F.elu(self.conv1(x, edge_index, edge_attr))\n",
    "        x = F.dropout(x, training=self.training)\n",
    "        x = self.conv2(x, edge_index, edge_attr)\n",
    "        return F.log_softmax(x, dim=1)\n",
    "\n",
    "\n",
    "device = torch.device('cuda' if torch.cuda.is_available() else 'cpu')\n",
    "model, data = Net().to(device), data.to(device)\n",
    "optimizer = torch.optim.Adam(model.parameters(), lr=0.01, weight_decay=5e-3)"
   ]
  },
  {
   "cell_type": "code",
   "execution_count": 5,
   "id": "32061cfb",
   "metadata": {
    "id": "32061cfb"
   },
   "outputs": [],
   "source": [
    "\n",
    "\n",
    "def train():\n",
    "    model.train()\n",
    "    optimizer.zero_grad()\n",
    "    F.nll_loss(model()[data.train_mask], data.y[data.train_mask]).backward()\n",
    "    optimizer.step()\n",
    "\n",
    "\n",
    "@torch.no_grad()\n",
    "def test():\n",
    "    model.eval()\n",
    "    log_probs, accs = model(), []\n",
    "    for _, mask in data('train_mask', 'test_mask'):\n",
    "        pred = log_probs[mask].max(1)[1]\n",
    "        acc = pred.eq(data.y[mask]).sum().item() / mask.sum().item()\n",
    "        accs.append(acc)\n",
    "    return accs\n",
    "\n",
    "\n"
   ]
  },
  {
   "cell_type": "code",
   "execution_count": null,
   "id": "c4273662",
   "metadata": {
    "id": "c4273662",
    "outputId": "e9ed3928-f6ad-48b7-c26a-c44722a19f65"
   },
   "outputs": [
    {
     "name": "stdout",
     "output_type": "stream",
     "text": [
      "Epoch: 000, Train: 0.4450, Test: 0.4180\n",
      "Epoch: 001, Train: 0.4737, Test: 0.4520\n",
      "Epoch: 002, Train: 0.5504, Test: 0.5080\n",
      "Epoch: 003, Train: 0.6587, Test: 0.6100\n",
      "Epoch: 004, Train: 0.7553, Test: 0.6980\n",
      "Epoch: 005, Train: 0.8419, Test: 0.7840\n",
      "Epoch: 006, Train: 0.8841, Test: 0.8400\n",
      "Epoch: 007, Train: 0.8964, Test: 0.8540\n",
      "Epoch: 008, Train: 0.9040, Test: 0.8660\n",
      "Epoch: 009, Train: 0.9110, Test: 0.8700\n",
      "Epoch: 010, Train: 0.9186, Test: 0.8700\n",
      "Epoch: 011, Train: 0.9204, Test: 0.8720\n",
      "Epoch: 012, Train: 0.9221, Test: 0.8800\n",
      "Epoch: 013, Train: 0.9268, Test: 0.8780\n",
      "Epoch: 014, Train: 0.9274, Test: 0.8860\n",
      "Epoch: 015, Train: 0.9303, Test: 0.8880\n",
      "Epoch: 016, Train: 0.9338, Test: 0.8880\n",
      "Epoch: 017, Train: 0.9391, Test: 0.8900\n",
      "Epoch: 018, Train: 0.9415, Test: 0.8940\n",
      "Epoch: 019, Train: 0.9450, Test: 0.9000\n",
      "Epoch: 020, Train: 0.9485, Test: 0.9040\n",
      "Epoch: 021, Train: 0.9514, Test: 0.9040\n",
      "Epoch: 022, Train: 0.9549, Test: 0.8940\n",
      "Epoch: 023, Train: 0.9584, Test: 0.8960\n",
      "Epoch: 024, Train: 0.9602, Test: 0.8940\n",
      "Epoch: 025, Train: 0.9643, Test: 0.8840\n",
      "Epoch: 026, Train: 0.9684, Test: 0.8860\n",
      "Epoch: 027, Train: 0.9701, Test: 0.8860\n",
      "Epoch: 028, Train: 0.9725, Test: 0.8840\n",
      "Epoch: 029, Train: 0.9725, Test: 0.8860\n",
      "Epoch: 030, Train: 0.9725, Test: 0.8840\n",
      "Epoch: 031, Train: 0.9731, Test: 0.8800\n",
      "Epoch: 032, Train: 0.9754, Test: 0.8840\n",
      "Epoch: 033, Train: 0.9742, Test: 0.8820\n",
      "Epoch: 034, Train: 0.9748, Test: 0.8840\n",
      "Epoch: 035, Train: 0.9742, Test: 0.8820\n",
      "Epoch: 036, Train: 0.9754, Test: 0.8820\n",
      "Epoch: 037, Train: 0.9760, Test: 0.8820\n",
      "Epoch: 038, Train: 0.9754, Test: 0.8780\n",
      "Epoch: 039, Train: 0.9748, Test: 0.8840\n",
      "Epoch: 040, Train: 0.9725, Test: 0.8820\n",
      "Epoch: 041, Train: 0.9696, Test: 0.8820\n",
      "Epoch: 042, Train: 0.9696, Test: 0.8840\n",
      "Epoch: 043, Train: 0.9701, Test: 0.8860\n",
      "Epoch: 044, Train: 0.9719, Test: 0.8840\n",
      "Epoch: 045, Train: 0.9713, Test: 0.8880\n",
      "Epoch: 046, Train: 0.9713, Test: 0.8880\n",
      "Epoch: 047, Train: 0.9719, Test: 0.8900\n",
      "Epoch: 048, Train: 0.9713, Test: 0.8900\n",
      "Epoch: 049, Train: 0.9707, Test: 0.8880\n"
     ]
    }
   ],
   "source": [
    "for epoch in range(50):\n",
    "    train()\n",
    "    train_acc, test_acc = test()\n",
    "    if epoch % 10 == 0:\n",
    "         print(f'Epoch: {epoch:03d}, Train: {train_acc:.4f}, Test: {test_acc:.4f}')"
   ]
  },
  {
   "cell_type": "code",
   "execution_count": null,
   "id": "20bb3a38",
   "metadata": {
    "id": "20bb3a38"
   },
   "outputs": [],
   "source": [
    "train_acc, test_acc = test()"
   ]
  },
  {
   "cell_type": "code",
   "execution_count": null,
   "id": "cc8628c9",
   "metadata": {
    "id": "cc8628c9",
    "outputId": "3e5e27f4-87ef-44b0-d5ab-ec9bf50d8d85"
   },
   "outputs": [
    {
     "name": "stdout",
     "output_type": "stream",
     "text": [
      "0.9707259953161592 0.888\n"
     ]
    }
   ],
   "source": [
    "print(train_acc, test_acc)"
   ]
  },
  {
   "cell_type": "code",
   "execution_count": null,
   "id": "7e6e8594",
   "metadata": {
    "id": "7e6e8594"
   },
   "outputs": [],
   "source": []
  },
  {
   "cell_type": "markdown",
   "id": "b448d80a",
   "metadata": {
    "id": "b448d80a"
   },
   "source": [
    "##  Measurement of avarage of accuracy, and time inference"
   ]
  },
  {
   "cell_type": "code",
   "execution_count": 7,
   "id": "2767071f",
   "metadata": {
    "id": "2767071f"
   },
   "outputs": [],
   "source": [
    "import time\n",
    "import statistics as stat\n",
    "\n",
    "\n",
    "Eva_final=dict()\n",
    "\n",
    "\n",
    "Base_model_Acc=[]\n",
    "T_base_model=[]\n",
    "T_biulding_model=[]"
   ]
  },
  {
   "cell_type": "code",
   "execution_count": 10,
   "id": "28ad0bf1",
   "metadata": {
    "colab": {
     "base_uri": "https://localhost:8080/"
    },
    "id": "28ad0bf1",
    "outputId": "97a735cc-7a91-42a6-e827-e0aaacf93d47"
   },
   "outputs": [
    {
     "name": "stdout",
     "output_type": "stream",
     "text": [
      "Epoch: 000, Train: 0.6721, Test: 0.5900\n",
      "Epoch: 010, Train: 0.9069, Test: 0.8360\n",
      "Epoch: 020, Train: 0.9514, Test: 0.8760\n",
      "Epoch: 030, Train: 0.9690, Test: 0.8700\n",
      "Epoch: 040, Train: 0.9696, Test: 0.8780\n",
      "Epoch: 050, Train: 0.9742, Test: 0.8820\n",
      "Epoch: 060, Train: 0.9772, Test: 0.8760\n",
      "Epoch: 070, Train: 0.9742, Test: 0.8760\n",
      "Epoch: 080, Train: 0.9760, Test: 0.8780\n",
      "Epoch: 090, Train: 0.9801, Test: 0.8760\n",
      "Train Accuracy: 0.9771662763466042, Test Accuracy: 0.868, Time inference:0.0033257007598876953\n",
      "Epoch: 000, Train: 0.4719, Test: 0.4180\n",
      "Epoch: 010, Train: 0.9280, Test: 0.8680\n",
      "Epoch: 020, Train: 0.9537, Test: 0.8760\n",
      "Epoch: 030, Train: 0.9707, Test: 0.8660\n",
      "Epoch: 040, Train: 0.9719, Test: 0.8760\n",
      "Epoch: 050, Train: 0.9731, Test: 0.8760\n",
      "Epoch: 060, Train: 0.9713, Test: 0.8700\n",
      "Epoch: 070, Train: 0.9813, Test: 0.8740\n",
      "Epoch: 080, Train: 0.9766, Test: 0.8660\n",
      "Epoch: 090, Train: 0.9766, Test: 0.8640\n",
      "Train Accuracy: 0.977751756440281, Test Accuracy: 0.856, Time inference:0.0033025741577148438\n",
      "Epoch: 000, Train: 0.3782, Test: 0.3580\n",
      "Epoch: 010, Train: 0.9309, Test: 0.8480\n",
      "Epoch: 020, Train: 0.9584, Test: 0.8680\n",
      "Epoch: 030, Train: 0.9778, Test: 0.8860\n",
      "Epoch: 040, Train: 0.9789, Test: 0.8680\n",
      "Epoch: 050, Train: 0.9766, Test: 0.8700\n",
      "Epoch: 060, Train: 0.9830, Test: 0.8760\n",
      "Epoch: 070, Train: 0.9783, Test: 0.8680\n",
      "Epoch: 080, Train: 0.9778, Test: 0.8720\n",
      "Epoch: 090, Train: 0.9807, Test: 0.8740\n",
      "Train Accuracy: 0.9818501170960188, Test Accuracy: 0.874, Time inference:0.003347635269165039\n",
      "Epoch: 000, Train: 0.5281, Test: 0.4680\n",
      "Epoch: 010, Train: 0.9210, Test: 0.8340\n",
      "Epoch: 020, Train: 0.9514, Test: 0.8680\n",
      "Epoch: 030, Train: 0.9690, Test: 0.8760\n",
      "Epoch: 040, Train: 0.9731, Test: 0.8760\n",
      "Epoch: 050, Train: 0.9789, Test: 0.8740\n",
      "Epoch: 060, Train: 0.9766, Test: 0.8720\n",
      "Epoch: 070, Train: 0.9754, Test: 0.8840\n",
      "Epoch: 080, Train: 0.9813, Test: 0.8720\n",
      "Epoch: 090, Train: 0.9795, Test: 0.8680\n",
      "Train Accuracy: 0.977751756440281, Test Accuracy: 0.88, Time inference:0.003620624542236328\n",
      "Epoch: 000, Train: 0.4368, Test: 0.3980\n",
      "Epoch: 010, Train: 0.9256, Test: 0.8460\n",
      "Epoch: 020, Train: 0.9549, Test: 0.8760\n",
      "Epoch: 030, Train: 0.9725, Test: 0.8740\n",
      "Epoch: 040, Train: 0.9807, Test: 0.8720\n",
      "Epoch: 050, Train: 0.9725, Test: 0.8720\n",
      "Epoch: 060, Train: 0.9772, Test: 0.8740\n",
      "Epoch: 070, Train: 0.9760, Test: 0.8720\n",
      "Epoch: 080, Train: 0.9766, Test: 0.8860\n",
      "Epoch: 090, Train: 0.9795, Test: 0.8800\n",
      "Train Accuracy: 0.9806791569086651, Test Accuracy: 0.88, Time inference:0.00427699089050293\n"
     ]
    }
   ],
   "source": [
    "device = torch.device('cuda' if torch.cuda.is_available() else 'cpu')\n",
    "data = data.to(device)\n",
    "for i in range(5):\n",
    "\n",
    "\n",
    "        model = Net().to(device)\n",
    "        optimizer = torch.optim.Adam(model.parameters(), lr=0.01, weight_decay=5e-3)\n",
    "\n",
    "        start = time.time()\n",
    "        for epoch in range(100):\n",
    "            train()\n",
    "            train_acc, test_acc = test()\n",
    "            if epoch % 10 == 0:\n",
    "                print(f'Epoch: {epoch:03d}, Train: {train_acc:.4f}, Test: {test_acc:.4f}')\n",
    "        end = time.time()\n",
    "        t_building_model= end-start\n",
    "\n",
    "        start = time.time()\n",
    "        train_acc, test_acc = test()\n",
    "        end = time.time()\n",
    "        t_inference= end-start\n",
    "\n",
    "        print(f\"Train Accuracy: {train_acc}, Test Accuracy: {test_acc}, Time inference:{t_inference}\")\n",
    "\n",
    "\n",
    "        Base_model_Acc.append(test_acc)\n",
    "        T_base_model.append(t_inference)\n",
    "        T_biulding_model.append( t_building_model)"
   ]
  },
  {
   "cell_type": "code",
   "execution_count": 11,
   "id": "443342b2",
   "metadata": {
    "colab": {
     "base_uri": "https://localhost:8080/"
    },
    "id": "443342b2",
    "outputId": "acc44108-bbeb-4451-feb3-f10100ef559b"
   },
   "outputs": [
    {
     "name": "stdout",
     "output_type": "stream",
     "text": [
      "Base_model_Acc in ten time:\n",
      "0.87      |0.868     |0.878     |0.864          |0.882     \n",
      "--------------------------------------------------------------------------------------------------------------\n",
      "Time Inference model in ten time:\n",
      "0.0032656192779541016|0.0032324790954589844|0.0038950443267822266|0.0032536983489990234|0.0035254955291748047\n"
     ]
    }
   ],
   "source": [
    "print(f'Base_model_Acc in ten time:')\n",
    "print (\"{:<10}|{:<10}|{:<10}|{:<15}|{:<10}\"\\\n",
    "    .format(Base_model_Acc[0],Base_model_Acc[1],Base_model_Acc[2],\\\n",
    "        Base_model_Acc[3],Base_model_Acc[4]))\n",
    "print (\"-\"*110)\n",
    "print(f'Time Inference model in ten time:')\n",
    "#print(T_base_model)\n",
    "print (\"{:<10}|{:<10}|{:<10}|{:<10}|{:<10}\"\\\n",
    "    .format(T_base_model[0],T_base_model[1],T_base_model[2],\\\n",
    "        T_base_model[3],T_base_model[4]))"
   ]
  },
  {
   "cell_type": "code",
   "execution_count": 12,
   "id": "0affbfcc",
   "metadata": {
    "colab": {
     "base_uri": "https://localhost:8080/"
    },
    "id": "0affbfcc",
    "outputId": "6362f939-4e68-4171-fa90-7b2ada5e24f3"
   },
   "outputs": [
    {
     "name": "stdout",
     "output_type": "stream",
     "text": [
      "Auc: 0.872 ± 0.008\n",
      "Time inference :0.004 ± 0.000\n"
     ]
    }
   ],
   "source": [
    "import statistics as stat\n",
    "\n",
    "base_model_accuracy_mean = stat.mean(Base_model_Acc)\n",
    "base_model_accuracy_std =  stat.stdev(Base_model_Acc)\n",
    "desc_auc = \"{:.3f} ± {:.3f}\".format(base_model_accuracy_mean,base_model_accuracy_std)\n",
    "print(f\"Auc: {desc_auc}\"  )\n",
    "\n",
    "Eva_final.update({'base model accuracy':float(format(base_model_accuracy_mean, '.4f'))})\n",
    "\n",
    "t_base_model_mean =stat.mean(T_base_model)\n",
    "t_base_model_std =stat.stdev(T_base_model)\n",
    "desc_T = \"{:.3f} ± {:.3f}\".format(t_base_model_mean,t_base_model_std)\n",
    "\n",
    "print(f\"Time inference :{desc_T}\")\n",
    "Eva_final.update({'time inference of base model':float(format(t_base_model_mean, '.6f'))})"
   ]
  },
  {
   "cell_type": "code",
   "execution_count": 16,
   "id": "295001f4",
   "metadata": {
    "id": "295001f4"
   },
   "outputs": [],
   "source": [
    "def get_num_parameters(model, count_nonzero_only=False) -> int:\n",
    "    \"\"\"\n",
    "    calculate the total number of parameters of model\n",
    "    :param count_nonzero_only: only count nonzero weights\n",
    "    \"\"\"\n",
    "    num_counted_elements = 0\n",
    "    for param in model.parameters():\n",
    "        if count_nonzero_only:\n",
    "            num_counted_elements += param.count_nonzero()\n",
    "        else:\n",
    "            num_counted_elements += param.numel()\n",
    "    return num_counted_elements\n",
    "\n",
    "\n",
    "def get_model_size(model, data_width=32, count_nonzero_only=False) -> int:\n",
    "    \"\"\"\n",
    "    calculate the model size in bits\n",
    "    :param data_width: #bits per element\n",
    "    :param count_nonzero_only: only count nonzero weights\n",
    "    \"\"\"\n",
    "    return get_num_parameters(model, count_nonzero_only) * data_width\n",
    "\n",
    "\n",
    "print(f\"Model Size: {get_model_size(model)}\")"
   ]
  },
  {
   "cell_type": "code",
   "execution_count": 18,
   "id": "HGqBC-i5Ow48",
   "metadata": {
    "colab": {
     "base_uri": "https://localhost:8080/"
    },
    "id": "HGqBC-i5Ow48",
    "outputId": "c7b8a612-ea2d-4f4e-cd74-ec896e70fbbe"
   },
   "outputs": [
    {
     "name": "stdout",
     "output_type": "stream",
     "text": [
      "Model Size: 2212576\n"
     ]
    }
   ],
   "source": [
    "print(f\"Model Size: {get_model_size(model)}\")"
   ]
  }
 ],
 "metadata": {
  "accelerator": "GPU",
  "colab": {
   "gpuType": "T4",
   "provenance": []
  },
  "kernelspec": {
   "display_name": "Python 3 (ipykernel)",
   "language": "python",
   "name": "python3"
  },
  "language_info": {
   "codemirror_mode": {
    "name": "ipython",
    "version": 3
   },
   "file_extension": ".py",
   "mimetype": "text/x-python",
   "name": "python",
   "nbconvert_exporter": "python",
   "pygments_lexer": "ipython3",
   "version": "3.10.6"
  }
 },
 "nbformat": 4,
 "nbformat_minor": 5
}
